{
 "cells": [
  {
   "cell_type": "code",
   "execution_count": 6,
   "metadata": {},
   "outputs": [
    {
     "name": "stdout",
     "output_type": "stream",
     "text": [
      "Defaulting to user installation because normal site-packages is not writeable\n",
      "Requirement already satisfied: pandas==1.0.5 in /home/lu/.local/lib/python3.8/site-packages (from -r requirements.txt (line 1)) (1.0.5)\n",
      "Requirement already satisfied: graphviz==0.14 in /home/lu/.local/lib/python3.8/site-packages (from -r requirements.txt (line 2)) (0.14)\n",
      "Requirement already satisfied: scikit-learn==0.23.1 in /home/lu/.local/lib/python3.8/site-packages (from -r requirements.txt (line 3)) (0.23.1)\n",
      "Requirement already satisfied: mglearn==0.1.9 in /home/lu/.local/lib/python3.8/site-packages (from -r requirements.txt (line 4)) (0.1.9)\n",
      "Requirement already satisfied: mlxtend==0.17.3 in /home/lu/.local/lib/python3.8/site-packages (from -r requirements.txt (line 5)) (0.17.3)\n",
      "Requirement already satisfied: numpy>=1.13.3 in /home/lu/.local/lib/python3.8/site-packages (from pandas==1.0.5->-r requirements.txt (line 1)) (1.18.1)\n",
      "Requirement already satisfied: pytz>=2017.2 in /usr/lib/python3.8/site-packages (from pandas==1.0.5->-r requirements.txt (line 1)) (2020.1)\n",
      "Requirement already satisfied: python-dateutil>=2.6.1 in /home/lu/.local/lib/python3.8/site-packages (from pandas==1.0.5->-r requirements.txt (line 1)) (2.8.1)\n",
      "Requirement already satisfied: joblib>=0.11 in /usr/lib/python3.8/site-packages (from scikit-learn==0.23.1->-r requirements.txt (line 3)) (0.16.0)\n",
      "Requirement already satisfied: threadpoolctl>=2.0.0 in /usr/lib/python3.8/site-packages (from scikit-learn==0.23.1->-r requirements.txt (line 3)) (2.1.0)\n",
      "Requirement already satisfied: scipy>=0.19.1 in /usr/lib/python3.8/site-packages (from scikit-learn==0.23.1->-r requirements.txt (line 3)) (1.5.2)\n",
      "Requirement already satisfied: imageio in /home/lu/.local/lib/python3.8/site-packages (from mglearn==0.1.9->-r requirements.txt (line 4)) (2.8.0)\n",
      "Requirement already satisfied: matplotlib in /usr/lib/python3.8/site-packages (from mglearn==0.1.9->-r requirements.txt (line 4)) (3.3.2)\n",
      "Requirement already satisfied: pillow in /home/lu/.local/lib/python3.8/site-packages (from mglearn==0.1.9->-r requirements.txt (line 4)) (7.0.0)\n",
      "Requirement already satisfied: cycler in /usr/lib/python3.8/site-packages (from mglearn==0.1.9->-r requirements.txt (line 4)) (0.10.0)\n",
      "Requirement already satisfied: setuptools in /usr/lib/python3.8/site-packages (from mlxtend==0.17.3->-r requirements.txt (line 5)) (50.3.0)\n",
      "Requirement already satisfied: six>=1.5 in /usr/lib/python3.8/site-packages (from python-dateutil>=2.6.1->pandas==1.0.5->-r requirements.txt (line 1)) (1.15.0)\n",
      "Requirement already satisfied: certifi>=2020.06.20 in /home/lu/.local/lib/python3.8/site-packages (from matplotlib->mglearn==0.1.9->-r requirements.txt (line 4)) (2020.6.20)\n",
      "Requirement already satisfied: kiwisolver>=1.0.1 in /usr/lib/python3.8/site-packages (from matplotlib->mglearn==0.1.9->-r requirements.txt (line 4)) (1.2.0)\n",
      "Requirement already satisfied: pyparsing!=2.0.4,!=2.1.2,!=2.1.6,>=2.0.3 in /usr/lib/python3.8/site-packages (from matplotlib->mglearn==0.1.9->-r requirements.txt (line 4)) (2.4.7)\n",
      "\u001b[33mWARNING: You are using pip version 20.1.1; however, version 20.2.3 is available.\n",
      "You should consider upgrading via the '/usr/bin/python -m pip install --upgrade pip' command.\u001b[0m\n"
     ]
    }
   ],
   "source": [
    "!pip install -r requirements.txt"
   ]
  },
  {
   "cell_type": "code",
   "execution_count": 7,
   "metadata": {},
   "outputs": [],
   "source": [
    "import pandas as pd\n",
    "import os\n",
    "from datetime import datetime as dt\n",
    "from sklearn import preprocessing\n",
    "from sklearn.model_selection import train_test_split"
   ]
  },
  {
   "cell_type": "code",
   "execution_count": 8,
   "metadata": {},
   "outputs": [],
   "source": [
    "df = pd.read_csv(\"heart_failure_clinical_records_dataset.train.csv\")"
   ]
  },
  {
   "cell_type": "code",
   "execution_count": 9,
   "metadata": {},
   "outputs": [
    {
     "data": {
      "image/png": "[encoded data removed]",
      "text/plain": [
       "<Figure size 432x288 with 1 Axes>"
      ]
     },
     "metadata": {
      "needs_background": "light"
     },
     "output_type": "display_data"
    }
   ],
   "source": [
    "# Let's see how many the death event is splitted in the set\n",
    "\n",
    "hist = df.hist(column=\"DEATH_EVENT\")"
   ]
  },
  {
   "cell_type": "code",
   "execution_count": 10,
   "metadata": {},
   "outputs": [],
   "source": [
    "df = df.sample(frac=1).reset_index(drop=True)\n",
    "\n",
    "train, test = train_test_split(df, test_size=0.25)"
   ]
  },
  {
   "cell_type": "code",
   "execution_count": 11,
   "metadata": {},
   "outputs": [],
   "source": [
    "train.to_csv(\"train.csv\", index=False)\n",
    "test.to_csv(\"test.csv\", index=False)"
   ]
  }
 ],
 "metadata": {
  "kernelspec": {
   "display_name": "Python 3",
   "language": "python",
   "name": "python3"
  },
  "language_info": {
   "codemirror_mode": {
    "name": "ipython",
    "version": 3
   },
   "file_extension": ".py",
   "mimetype": "text/x-python",
   "name": "python",
   "nbconvert_exporter": "python",
   "pygments_lexer": "ipython3",
   "version": "3.8.5"
  }
 },
 "nbformat": 4,
 "nbformat_minor": 4
}
