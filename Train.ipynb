{
 "cells": [
  {
   "cell_type": "markdown",
   "metadata": {},
   "source": [
    "# Start"
   ]
  },
  {
   "cell_type": "markdown",
   "metadata": {},
   "source": [
    "## Testato con immagine library/python:latest"
   ]
  },
  {
   "cell_type": "code",
   "execution_count": 1,
   "metadata": {},
   "outputs": [
    {
     "name": "stdout",
     "output_type": "stream",
     "text": [
      "Defaulting to user installation because normal site-packages is not writeable\n",
      "Requirement already satisfied: pandas==1.0.5 in /home/lu/.local/lib/python3.8/site-packages (from -r requirements.txt (line 1)) (1.0.5)\n",
      "Requirement already satisfied: graphviz==0.14 in /home/lu/.local/lib/python3.8/site-packages (from -r requirements.txt (line 2)) (0.14)\n",
      "Requirement already satisfied: scikit-learn==0.23.1 in /home/lu/.local/lib/python3.8/site-packages (from -r requirements.txt (line 3)) (0.23.1)\n",
      "Requirement already satisfied: mglearn==0.1.9 in /home/lu/.local/lib/python3.8/site-packages (from -r requirements.txt (line 4)) (0.1.9)\n",
      "Requirement already satisfied: mlxtend==0.17.3 in /home/lu/.local/lib/python3.8/site-packages (from -r requirements.txt (line 5)) (0.17.3)\n",
      "Requirement already satisfied: pytz>=2017.2 in /usr/lib/python3.8/site-packages (from pandas==1.0.5->-r requirements.txt (line 1)) (2020.1)\n",
      "Requirement already satisfied: numpy>=1.13.3 in /home/lu/.local/lib/python3.8/site-packages (from pandas==1.0.5->-r requirements.txt (line 1)) (1.18.1)\n",
      "Requirement already satisfied: python-dateutil>=2.6.1 in /home/lu/.local/lib/python3.8/site-packages (from pandas==1.0.5->-r requirements.txt (line 1)) (2.8.1)\n",
      "Requirement already satisfied: joblib>=0.11 in /usr/lib/python3.8/site-packages (from scikit-learn==0.23.1->-r requirements.txt (line 3)) (0.16.0)\n",
      "Requirement already satisfied: threadpoolctl>=2.0.0 in /usr/lib/python3.8/site-packages (from scikit-learn==0.23.1->-r requirements.txt (line 3)) (2.1.0)\n",
      "Requirement already satisfied: scipy>=0.19.1 in /usr/lib/python3.8/site-packages (from scikit-learn==0.23.1->-r requirements.txt (line 3)) (1.5.2)\n",
      "Requirement already satisfied: cycler in /usr/lib/python3.8/site-packages (from mglearn==0.1.9->-r requirements.txt (line 4)) (0.10.0)\n",
      "Requirement already satisfied: imageio in /home/lu/.local/lib/python3.8/site-packages (from mglearn==0.1.9->-r requirements.txt (line 4)) (2.8.0)\n",
      "Requirement already satisfied: matplotlib in /usr/lib/python3.8/site-packages (from mglearn==0.1.9->-r requirements.txt (line 4)) (3.3.2)\n",
      "Requirement already satisfied: pillow in /home/lu/.local/lib/python3.8/site-packages (from mglearn==0.1.9->-r requirements.txt (line 4)) (7.0.0)\n",
      "Requirement already satisfied: setuptools in /usr/lib/python3.8/site-packages (from mlxtend==0.17.3->-r requirements.txt (line 5)) (50.3.0)\n",
      "Requirement already satisfied: six>=1.5 in /usr/lib/python3.8/site-packages (from python-dateutil>=2.6.1->pandas==1.0.5->-r requirements.txt (line 1)) (1.15.0)\n",
      "Requirement already satisfied: certifi>=2020.06.20 in /home/lu/.local/lib/python3.8/site-packages (from matplotlib->mglearn==0.1.9->-r requirements.txt (line 4)) (2020.6.20)\n",
      "Requirement already satisfied: kiwisolver>=1.0.1 in /usr/lib/python3.8/site-packages (from matplotlib->mglearn==0.1.9->-r requirements.txt (line 4)) (1.2.0)\n",
      "Requirement already satisfied: pyparsing!=2.0.4,!=2.1.2,!=2.1.6,>=2.0.3 in /usr/lib/python3.8/site-packages (from matplotlib->mglearn==0.1.9->-r requirements.txt (line 4)) (2.4.7)\n",
      "\u001b[33mWARNING: You are using pip version 20.1.1; however, version 20.2.3 is available.\n",
      "You should consider upgrading via the '/usr/bin/python -m pip install --upgrade pip' command.\u001b[0m\n"
     ]
    }
   ],
   "source": [
    "!pip install -r requirements.txt"
   ]
  },
  {
   "cell_type": "code",
   "execution_count": 2,
   "metadata": {},
   "outputs": [],
   "source": [
    "import pandas as pd\n",
    "from sklearn.tree import DecisionTreeClassifier\n",
    "from sklearn import preprocessing\n",
    "from sklearn.metrics import plot_confusion_matrix\n",
    "from datetime import datetime\n",
    "import matplotlib.pyplot as plt\n",
    "import numpy as np"
   ]
  },
  {
   "cell_type": "code",
   "execution_count": 3,
   "metadata": {},
   "outputs": [],
   "source": [
    "# Loading data and test files as requested\n",
    "train_data = pd.read_csv(\"train.csv\")\n",
    "test_data = pd.read_csv(\"test.csv\")"
   ]
  },
  {
   "cell_type": "code",
   "execution_count": 4,
   "metadata": {},
   "outputs": [],
   "source": [
    "# Splitting dependent and independent features\n",
    "X_train = train_data.iloc[:,1:].values\n",
    "y_train = train_data.iloc[:,:1].values.ravel()\n",
    "\n",
    "X_test = test_data.iloc[:,1:].values\n",
    "y_test = test_data.iloc[:,:1].values.ravel()"
   ]
  },
  {
   "cell_type": "code",
   "execution_count": 5,
   "metadata": {},
   "outputs": [
    {
     "name": "stdout",
     "output_type": "stream",
     "text": [
      "Training/test accuracy with C=60: 0.894 0.767\n"
     ]
    },
    {
     "data": {
      "text/plain": [
       "([<matplotlib.axis.XTick at 0x7fe51e8083a0>,\n",
       "  <matplotlib.axis.XTick at 0x7fe51e808370>,\n",
       "  <matplotlib.axis.XTick at 0x7fe51e7efe80>,\n",
       "  <matplotlib.axis.XTick at 0x7fe51e7d0070>,\n",
       "  <matplotlib.axis.XTick at 0x7fe51e7d03d0>,\n",
       "  <matplotlib.axis.XTick at 0x7fe51e7d08e0>,\n",
       "  <matplotlib.axis.XTick at 0x7fe51e7d0df0>,\n",
       "  <matplotlib.axis.XTick at 0x7fe51e7d7340>,\n",
       "  <matplotlib.axis.XTick at 0x7fe51e7d7850>,\n",
       "  <matplotlib.axis.XTick at 0x7fe51e7d7d60>,\n",
       "  <matplotlib.axis.XTick at 0x7fe51c75d2b0>,\n",
       "  <matplotlib.axis.XTick at 0x7fe51c75d7f0>],\n",
       " [Text(0, 0, 'age'),\n",
       "  Text(1, 0, 'anaemia'),\n",
       "  Text(2, 0, 'creatinine_phosphokinase'),\n",
       "  Text(3, 0, 'diabetes'),\n",
       "  Text(4, 0, 'ejection_fraction'),\n",
       "  Text(5, 0, 'high_blood_pressure'),\n",
       "  Text(6, 0, 'platelets'),\n",
       "  Text(7, 0, 'serum_creatinine'),\n",
       "  Text(8, 0, 'serum_sodium'),\n",
       "  Text(9, 0, 'sex'),\n",
       "  Text(10, 0, 'smoking'),\n",
       "  Text(11, 0, 'time')])"
      ]
     },
     "execution_count": 5,
     "metadata": {},
     "output_type": "execute_result"
    },
    {
     "data": {
      "image/png": "[encoded data removed]",
      "text/plain": [
       "<Figure size 432x288 with 1 Axes>"
      ]
     },
     "metadata": {
      "needs_background": "light"
     },
     "output_type": "display_data"
    }
   ],
   "source": [
    "# Time for some regression! First we train the model, then we test it.\n",
    "# With C=x we get the best results.\n",
    "\n",
    "# Since DecisionTreeClassifier will give too much weight to the time feature, we choose LogisticRegression \n",
    "# to create a good linear boundary\n",
    "\n",
    "from sklearn.linear_model import LogisticRegression\n",
    "\n",
    "C=60\n",
    "\n",
    "lr_l1 = LogisticRegression(C=C,solver='liblinear', penalty=\"l1\").fit(X_train, y_train)\n",
    "train_score = lr_l1.score(X_train, y_train)\n",
    "test_score = lr_l1.score(X_test, y_test)\n",
    "print(\"Training/test accuracy with C={:.0f}: {:.3f} {:.3f}\".format(C, train_score, test_score))\n",
    "\n",
    "\n",
    "# We plot the coefficient of each feature of the decision function\n",
    "plt.plot(lr_l1.coef_.T, 'x', label=\"C={:.3f}\".format(C))\n",
    "plt.xticks(range(12), train_data.columns[1:], rotation=90)"
   ]
  },
  {
   "cell_type": "code",
   "execution_count": 6,
   "metadata": {},
   "outputs": [
    {
     "data": {
      "text/plain": [
       "<sklearn.metrics._plot.confusion_matrix.ConfusionMatrixDisplay at 0x7fe51e81cf70>"
      ]
     },
     "execution_count": 6,
     "metadata": {},
     "output_type": "execute_result"
    },
    {
     "data": {
      "image/png": "[encoded data removed]",
      "text/plain": [
       "<Figure size 432x288 with 2 Axes>"
      ]
     },
     "metadata": {
      "needs_background": "light"
     },
     "output_type": "display_data"
    }
   ],
   "source": [
    "# We plot the confusion matrix to better explain the prediction behavior on the test set\n",
    "# and be sure that the model predicts both classes\n",
    "\n",
    "plot_confusion_matrix(lr_l1, X_test, y_test, cmap=plt.cm.Blues, normalize='true')"
   ]
  },
  {
   "cell_type": "markdown",
   "metadata": {},
   "source": [
    "## END"
   ]
  }
 ],
 "metadata": {
  "kernelspec": {
   "display_name": "Python 3",
   "language": "python",
   "name": "python3"
  },
  "language_info": {
   "codemirror_mode": {
    "name": "ipython",
    "version": 3
   },
   "file_extension": ".py",
   "mimetype": "text/x-python",
   "name": "python",
   "nbconvert_exporter": "python",
   "pygments_lexer": "ipython3",
   "version": "3.8.5"
  }
 },
 "nbformat": 4,
 "nbformat_minor": 4
}
